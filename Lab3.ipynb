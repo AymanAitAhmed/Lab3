{
 "cells": [
  {
   "cell_type": "markdown",
   "source": [
    "### Part 1: Language Modeling / Regression"
   ],
   "metadata": {
    "collapsed": false
   },
   "id": "967056d0fb8399e2"
  },
  {
   "cell_type": "code",
   "execution_count": 2,
   "outputs": [],
   "source": [
    "import pandas as pd"
   ],
   "metadata": {
    "collapsed": false,
    "ExecuteTime": {
     "end_time": "2024-05-19T20:16:18.333236800Z",
     "start_time": "2024-05-19T20:16:18.301241800Z"
    }
   },
   "id": "c60bd0331fca2903"
  },
  {
   "cell_type": "code",
   "execution_count": 26,
   "outputs": [
    {
     "data": {
      "text/plain": "        id                                             answer  score  correct\n0      1.1  High risk problems are address in the prototyp...    3.5      0.0\n1      1.1  To simulate portions of the desired final prod...    5.0      1.0\n2      1.1  A prototype program simulates the behaviors of...    4.0      1.0\n3      1.1  Defined in the Specification phase a prototype...    5.0      1.0\n4      1.1  It is used to let the users have a first idea ...    3.0      0.0\n...    ...                                                ...    ...      ...\n2437  12.1                                              log n    5.0      1.0\n2438  12.1                               minus 1 divided by 2    1.5      0.0\n2439  12.1                                               2n-1    2.5      0.0\n2440  12.1  it takes at most h steps, where h is the heigh...    5.0      1.0\n2441  12.1  it depends on the install search tree then fro...    1.5      0.0\n\n[2442 rows x 4 columns]",
      "text/html": "<div>\n<style scoped>\n    .dataframe tbody tr th:only-of-type {\n        vertical-align: middle;\n    }\n\n    .dataframe tbody tr th {\n        vertical-align: top;\n    }\n\n    .dataframe thead th {\n        text-align: right;\n    }\n</style>\n<table border=\"1\" class=\"dataframe\">\n  <thead>\n    <tr style=\"text-align: right;\">\n      <th></th>\n      <th>id</th>\n      <th>answer</th>\n      <th>score</th>\n      <th>correct</th>\n    </tr>\n  </thead>\n  <tbody>\n    <tr>\n      <th>0</th>\n      <td>1.1</td>\n      <td>High risk problems are address in the prototyp...</td>\n      <td>3.5</td>\n      <td>0.0</td>\n    </tr>\n    <tr>\n      <th>1</th>\n      <td>1.1</td>\n      <td>To simulate portions of the desired final prod...</td>\n      <td>5.0</td>\n      <td>1.0</td>\n    </tr>\n    <tr>\n      <th>2</th>\n      <td>1.1</td>\n      <td>A prototype program simulates the behaviors of...</td>\n      <td>4.0</td>\n      <td>1.0</td>\n    </tr>\n    <tr>\n      <th>3</th>\n      <td>1.1</td>\n      <td>Defined in the Specification phase a prototype...</td>\n      <td>5.0</td>\n      <td>1.0</td>\n    </tr>\n    <tr>\n      <th>4</th>\n      <td>1.1</td>\n      <td>It is used to let the users have a first idea ...</td>\n      <td>3.0</td>\n      <td>0.0</td>\n    </tr>\n    <tr>\n      <th>...</th>\n      <td>...</td>\n      <td>...</td>\n      <td>...</td>\n      <td>...</td>\n    </tr>\n    <tr>\n      <th>2437</th>\n      <td>12.1</td>\n      <td>log n</td>\n      <td>5.0</td>\n      <td>1.0</td>\n    </tr>\n    <tr>\n      <th>2438</th>\n      <td>12.1</td>\n      <td>minus 1 divided by 2</td>\n      <td>1.5</td>\n      <td>0.0</td>\n    </tr>\n    <tr>\n      <th>2439</th>\n      <td>12.1</td>\n      <td>2n-1</td>\n      <td>2.5</td>\n      <td>0.0</td>\n    </tr>\n    <tr>\n      <th>2440</th>\n      <td>12.1</td>\n      <td>it takes at most h steps, where h is the heigh...</td>\n      <td>5.0</td>\n      <td>1.0</td>\n    </tr>\n    <tr>\n      <th>2441</th>\n      <td>12.1</td>\n      <td>it depends on the install search tree then fro...</td>\n      <td>1.5</td>\n      <td>0.0</td>\n    </tr>\n  </tbody>\n</table>\n<p>2442 rows × 4 columns</p>\n</div>"
     },
     "execution_count": 26,
     "metadata": {},
     "output_type": "execute_result"
    }
   ],
   "source": [
    "path = r'C:\\Users\\ACER\\PycharmProjects\\LogisticRegression\\env\\NLP\\answers.csv'\n",
    "answers_df = pd.read_csv(path)"
   ],
   "metadata": {
    "collapsed": false,
    "ExecuteTime": {
     "end_time": "2024-05-14T17:33:31.896434700Z",
     "start_time": "2024-05-14T17:33:31.836629500Z"
    }
   },
   "id": "c586cbf8114b8b09"
  },
  {
   "cell_type": "markdown",
   "source": [
    "#### establishing NLP pipeline"
   ],
   "metadata": {
    "collapsed": false
   },
   "id": "6cb9c2d871cc4f15"
  },
  {
   "cell_type": "code",
   "execution_count": 3,
   "outputs": [],
   "source": [
    "from nltk.corpus import stopwords\n",
    "from nltk.tokenize import word_tokenize\n",
    "from nltk.stem import WordNetLemmatizer"
   ],
   "metadata": {
    "collapsed": false,
    "ExecuteTime": {
     "end_time": "2024-05-19T20:16:25.675787200Z",
     "start_time": "2024-05-19T20:16:23.555541700Z"
    }
   },
   "id": "3292c02281d113fb"
  },
  {
   "cell_type": "code",
   "execution_count": 14,
   "outputs": [
    {
     "name": "stderr",
     "output_type": "stream",
     "text": [
      "[nltk_data] Downloading package wordnet to\n",
      "[nltk_data]     C:\\Users\\ACER\\AppData\\Roaming\\nltk_data...\n"
     ]
    },
    {
     "data": {
      "text/plain": "True"
     },
     "execution_count": 14,
     "metadata": {},
     "output_type": "execute_result"
    }
   ],
   "source": [
    "import nltk\n",
    "\n",
    "nltk.download('wordnet')"
   ],
   "metadata": {
    "collapsed": false,
    "ExecuteTime": {
     "end_time": "2024-05-14T16:11:26.271756600Z",
     "start_time": "2024-05-14T16:11:20.634630500Z"
    }
   },
   "id": "4203fcfd7c15e746"
  },
  {
   "cell_type": "code",
   "execution_count": 4,
   "outputs": [],
   "source": [
    "import re\n",
    "\n",
    "\n",
    "def preprocess_text(text):\n",
    "    text = re.sub(r'[^\\w\\s]', '', text.lower())\n",
    "    text = re.sub(r'\\d', '', text)\n",
    "    tokens = word_tokenize(text)\n",
    "    filtered_tokens = [token for token in tokens if token not in stopwords.words('english')]\n",
    "    lemmatizer = WordNetLemmatizer()\n",
    "    lemmatized_tokens = [lemmatizer.lemmatize(token) for token in filtered_tokens]\n",
    "    return lemmatized_tokens"
   ],
   "metadata": {
    "collapsed": false,
    "ExecuteTime": {
     "end_time": "2024-05-19T20:16:28.238827400Z",
     "start_time": "2024-05-19T20:16:28.192726600Z"
    }
   },
   "id": "dfbee5eabb16835e"
  },
  {
   "cell_type": "code",
   "execution_count": 103,
   "outputs": [],
   "source": [
    "answers_df['answer'] = [preprocess_text(text) for text in answers_df['answer']]"
   ],
   "metadata": {
    "collapsed": false,
    "ExecuteTime": {
     "end_time": "2024-05-14T20:16:12.816851400Z",
     "start_time": "2024-05-14T20:15:59.852717600Z"
    }
   },
   "id": "2d6e507de6b40991"
  },
  {
   "cell_type": "code",
   "execution_count": 104,
   "outputs": [
    {
     "data": {
      "text/plain": "    id                                             answer  score  correct\n0  1.1  [high, risk, problem, address, prototype, prog...    3.5      0.0\n1  1.1  [simulate, portion, desired, final, product, q...    5.0      1.0\n2  1.1  [prototype, program, simulates, behavior, port...    4.0      1.0\n3  1.1  [defined, specification, phase, prototype, sti...    5.0      1.0\n4  1.1  [used, let, user, first, idea, completed, prog...    3.0      0.0",
      "text/html": "<div>\n<style scoped>\n    .dataframe tbody tr th:only-of-type {\n        vertical-align: middle;\n    }\n\n    .dataframe tbody tr th {\n        vertical-align: top;\n    }\n\n    .dataframe thead th {\n        text-align: right;\n    }\n</style>\n<table border=\"1\" class=\"dataframe\">\n  <thead>\n    <tr style=\"text-align: right;\">\n      <th></th>\n      <th>id</th>\n      <th>answer</th>\n      <th>score</th>\n      <th>correct</th>\n    </tr>\n  </thead>\n  <tbody>\n    <tr>\n      <th>0</th>\n      <td>1.1</td>\n      <td>[high, risk, problem, address, prototype, prog...</td>\n      <td>3.5</td>\n      <td>0.0</td>\n    </tr>\n    <tr>\n      <th>1</th>\n      <td>1.1</td>\n      <td>[simulate, portion, desired, final, product, q...</td>\n      <td>5.0</td>\n      <td>1.0</td>\n    </tr>\n    <tr>\n      <th>2</th>\n      <td>1.1</td>\n      <td>[prototype, program, simulates, behavior, port...</td>\n      <td>4.0</td>\n      <td>1.0</td>\n    </tr>\n    <tr>\n      <th>3</th>\n      <td>1.1</td>\n      <td>[defined, specification, phase, prototype, sti...</td>\n      <td>5.0</td>\n      <td>1.0</td>\n    </tr>\n    <tr>\n      <th>4</th>\n      <td>1.1</td>\n      <td>[used, let, user, first, idea, completed, prog...</td>\n      <td>3.0</td>\n      <td>0.0</td>\n    </tr>\n  </tbody>\n</table>\n</div>"
     },
     "execution_count": 104,
     "metadata": {},
     "output_type": "execute_result"
    }
   ],
   "source": [
    "answers_df.head(5)"
   ],
   "metadata": {
    "collapsed": false,
    "ExecuteTime": {
     "end_time": "2024-05-14T20:16:15.774379Z",
     "start_time": "2024-05-14T20:16:15.728095Z"
    }
   },
   "id": "f21559c30872be59"
  },
  {
   "cell_type": "markdown",
   "source": [
    "#### encoding the data using a pretrained model\n",
    "the word2vec pre-trained Google News corpus (3 billion running words) word vector model (3 million 300-dimension English word vectors).\n",
    "here is the **[link](https://www.kaggle.com/datasets/leadbest/googlenewsvectorsnegative300)** to download the model."
   ],
   "metadata": {
    "collapsed": false
   },
   "id": "733dd4e37663f19b"
  },
  {
   "cell_type": "code",
   "execution_count": 5,
   "outputs": [],
   "source": [
    "from gensim.models import KeyedVectors\n",
    "\n",
    "model_cbow = KeyedVectors.load_word2vec_format(\n",
    "    r'C:\\Users\\ACER\\PycharmProjects\\LogisticRegression\\env\\NLP\\GoogleNews-vectors-negative300.bin', binary=True)"
   ],
   "metadata": {
    "collapsed": false,
    "ExecuteTime": {
     "end_time": "2024-05-19T20:17:03.417339200Z",
     "start_time": "2024-05-19T20:16:31.058284200Z"
    }
   },
   "id": "3402a607a9718959"
  },
  {
   "cell_type": "code",
   "execution_count": 6,
   "outputs": [],
   "source": [
    "import numpy as np\n",
    "\n",
    "\n",
    "def text_to_vector(text, model):\n",
    "    word_vectors = []\n",
    "    for word in text:\n",
    "        if word in model.key_to_index:\n",
    "            word_vectors.append(model[word])\n",
    "    if len(word_vectors) > 0:\n",
    "        return np.mean(word_vectors, axis=0)\n",
    "    else:\n",
    "        return np.zeros(model.vector_size)\n"
   ],
   "metadata": {
    "collapsed": false,
    "ExecuteTime": {
     "end_time": "2024-05-19T20:17:03.440732100Z",
     "start_time": "2024-05-19T20:17:03.423999800Z"
    }
   },
   "id": "cb9249b6902961ae"
  },
  {
   "cell_type": "code",
   "execution_count": 105,
   "outputs": [],
   "source": [
    "answers_df_vectors = answers_df.copy()\n",
    "\n",
    "answers_df_vectors['answer'] = [text_to_vector(text, model_cbow) for text in answers_df_vectors['answer']]"
   ],
   "metadata": {
    "collapsed": false,
    "ExecuteTime": {
     "end_time": "2024-05-14T20:17:14.737009900Z",
     "start_time": "2024-05-14T20:17:14.586681400Z"
    }
   },
   "id": "5e629be06d39a2e5"
  },
  {
   "cell_type": "code",
   "execution_count": 106,
   "outputs": [
    {
     "data": {
      "text/plain": "    id                                             answer  score  correct\n0  1.1  [-0.011313991, 0.009006701, 0.03616333, 0.0942...    3.5      0.0\n1  1.1  [0.06038947, 0.0151013825, 0.0019430863, 0.078...    5.0      1.0\n2  1.1  [-0.026572488, 0.0030524514, 0.023925781, 0.02...    4.0      1.0\n3  1.1  [-0.008671352, 0.014805385, 0.00014241536, 0.0...    5.0      1.0\n4  1.1  [-0.0045543853, -0.0039262315, 0.03354972, 0.0...    3.0      0.0",
      "text/html": "<div>\n<style scoped>\n    .dataframe tbody tr th:only-of-type {\n        vertical-align: middle;\n    }\n\n    .dataframe tbody tr th {\n        vertical-align: top;\n    }\n\n    .dataframe thead th {\n        text-align: right;\n    }\n</style>\n<table border=\"1\" class=\"dataframe\">\n  <thead>\n    <tr style=\"text-align: right;\">\n      <th></th>\n      <th>id</th>\n      <th>answer</th>\n      <th>score</th>\n      <th>correct</th>\n    </tr>\n  </thead>\n  <tbody>\n    <tr>\n      <th>0</th>\n      <td>1.1</td>\n      <td>[-0.011313991, 0.009006701, 0.03616333, 0.0942...</td>\n      <td>3.5</td>\n      <td>0.0</td>\n    </tr>\n    <tr>\n      <th>1</th>\n      <td>1.1</td>\n      <td>[0.06038947, 0.0151013825, 0.0019430863, 0.078...</td>\n      <td>5.0</td>\n      <td>1.0</td>\n    </tr>\n    <tr>\n      <th>2</th>\n      <td>1.1</td>\n      <td>[-0.026572488, 0.0030524514, 0.023925781, 0.02...</td>\n      <td>4.0</td>\n      <td>1.0</td>\n    </tr>\n    <tr>\n      <th>3</th>\n      <td>1.1</td>\n      <td>[-0.008671352, 0.014805385, 0.00014241536, 0.0...</td>\n      <td>5.0</td>\n      <td>1.0</td>\n    </tr>\n    <tr>\n      <th>4</th>\n      <td>1.1</td>\n      <td>[-0.0045543853, -0.0039262315, 0.03354972, 0.0...</td>\n      <td>3.0</td>\n      <td>0.0</td>\n    </tr>\n  </tbody>\n</table>\n</div>"
     },
     "execution_count": 106,
     "metadata": {},
     "output_type": "execute_result"
    }
   ],
   "source": [
    "answers_df_vectors.head(5)"
   ],
   "metadata": {
    "collapsed": false,
    "ExecuteTime": {
     "end_time": "2024-05-14T20:17:21.734301900Z",
     "start_time": "2024-05-14T20:17:21.702473300Z"
    }
   },
   "id": "9eec571f7444e397"
  },
  {
   "cell_type": "markdown",
   "source": [
    "#### preparing the dataframe for train and testing"
   ],
   "metadata": {
    "collapsed": false
   },
   "id": "53f8b006c7a71641"
  },
  {
   "cell_type": "code",
   "execution_count": 107,
   "outputs": [],
   "source": [
    "mat_answers_df = np.array([arr for arr in answers_df_vectors['answer']])\n",
    "\n",
    "answers_df_vectors.drop(['answer'], axis=1, inplace=True)"
   ],
   "metadata": {
    "collapsed": false,
    "ExecuteTime": {
     "end_time": "2024-05-14T20:18:09.838599700Z",
     "start_time": "2024-05-14T20:18:09.777761200Z"
    }
   },
   "id": "96895c68257c7667"
  },
  {
   "cell_type": "code",
   "execution_count": 108,
   "outputs": [],
   "source": [
    "prepro_answers_df = answers_df_vectors.join(pd.DataFrame(mat_answers_df))"
   ],
   "metadata": {
    "collapsed": false,
    "ExecuteTime": {
     "end_time": "2024-05-14T20:19:11.546624700Z",
     "start_time": "2024-05-14T20:19:11.518756800Z"
    }
   },
   "id": "76a1abc4d1ddc00f"
  },
  {
   "cell_type": "code",
   "execution_count": 115,
   "outputs": [],
   "source": [
    "prepro_answers_df.columns = prepro_answers_df.columns.astype(str)\n",
    "prepro_answers_df.dropna(axis=1, inplace=True)"
   ],
   "metadata": {
    "collapsed": false,
    "ExecuteTime": {
     "end_time": "2024-05-14T20:24:02.973950100Z",
     "start_time": "2024-05-14T20:24:02.928523500Z"
    }
   },
   "id": "eee0b1b70fd63de7"
  },
  {
   "cell_type": "code",
   "execution_count": 138,
   "outputs": [
    {
     "data": {
      "text/plain": "        id  score  correct         0         1         2         3         4  \\\n0      1.1    3.5      0.0 -0.011314  0.009007  0.036163  0.094203 -0.086490   \n1      1.1    5.0      1.0  0.060389  0.015101  0.001943  0.078427 -0.051615   \n2      1.1    4.0      1.0 -0.026572  0.003052  0.023926  0.027011 -0.124079   \n3      1.1    5.0      1.0 -0.008671  0.014805  0.000142  0.075033 -0.145578   \n4      1.1    3.0      0.0 -0.004554 -0.003926  0.033550  0.072991 -0.047009   \n...    ...    ...      ...       ...       ...       ...       ...       ...   \n2437  12.1    5.0      1.0  0.059906 -0.001709 -0.172974  0.051758 -0.112305   \n2438  12.1    1.5      0.0  0.057083 -0.097229  0.092163  0.070007 -0.083618   \n2439  12.1    2.5      0.0  0.000000  0.000000  0.000000  0.000000  0.000000   \n2440  12.1    5.0      1.0 -0.039510  0.178182 -0.027710 -0.015666 -0.085327   \n2441  12.1    1.5      0.0  0.078084  0.018366 -0.008784  0.052569 -0.065615   \n\n             5         6  ...       290       291       292       293  \\\n0     0.018722  0.106346  ... -0.109144  0.056168 -0.094267 -0.002266   \n1    -0.006441  0.117803  ... -0.111039  0.037476 -0.037692  0.014641   \n2     0.011813  0.080247  ... -0.120128  0.113636 -0.021476 -0.043010   \n3     0.044373  0.101935  ... -0.168329  0.041958 -0.046039 -0.039089   \n4     0.024852  0.105057  ... -0.134584  0.128961 -0.055376  0.009431   \n...        ...       ...  ...       ...       ...       ...       ...   \n2437  0.082764  0.064453  ...  0.093750  0.042542  0.026489  0.014893   \n2438  0.013002 -0.010864  ... -0.066467  0.048859 -0.047043  0.087646   \n2439  0.000000  0.000000  ...  0.000000  0.000000  0.000000  0.000000   \n2440 -0.125814  0.041423  ... -0.049072  0.149902 -0.137634  0.075846   \n2441  0.034973  0.103816  ... -0.033778  0.135666 -0.024923  0.016905   \n\n           294       295       296       297       298       299  \n0    -0.000630  0.034838 -0.050432 -0.082519 -0.058517 -0.084094  \n1    -0.033205  0.092497 -0.027912 -0.017063 -0.050849 -0.066237  \n2     0.050251  0.023088  0.028648 -0.092174 -0.106146  0.061167  \n3    -0.018669  0.049331 -0.036801 -0.036714 -0.032854  0.002749  \n4    -0.027363  0.014968  0.045993 -0.082018 -0.065550 -0.084932  \n...        ...       ...       ...       ...       ...       ...  \n2437 -0.046875 -0.259277  0.060059 -0.158569 -0.154785 -0.022278  \n2438 -0.072632 -0.008606 -0.140869 -0.116821 -0.064392  0.026764  \n2439  0.000000  0.000000  0.000000  0.000000  0.000000  0.000000  \n2440 -0.028071 -0.089600 -0.154867 -0.002360 -0.088175  0.027323  \n2441  0.022451 -0.023905 -0.034216 -0.109090  0.036997  0.015066  \n\n[2442 rows x 303 columns]",
      "text/html": "<div>\n<style scoped>\n    .dataframe tbody tr th:only-of-type {\n        vertical-align: middle;\n    }\n\n    .dataframe tbody tr th {\n        vertical-align: top;\n    }\n\n    .dataframe thead th {\n        text-align: right;\n    }\n</style>\n<table border=\"1\" class=\"dataframe\">\n  <thead>\n    <tr style=\"text-align: right;\">\n      <th></th>\n      <th>id</th>\n      <th>score</th>\n      <th>correct</th>\n      <th>0</th>\n      <th>1</th>\n      <th>2</th>\n      <th>3</th>\n      <th>4</th>\n      <th>5</th>\n      <th>6</th>\n      <th>...</th>\n      <th>290</th>\n      <th>291</th>\n      <th>292</th>\n      <th>293</th>\n      <th>294</th>\n      <th>295</th>\n      <th>296</th>\n      <th>297</th>\n      <th>298</th>\n      <th>299</th>\n    </tr>\n  </thead>\n  <tbody>\n    <tr>\n      <th>0</th>\n      <td>1.1</td>\n      <td>3.5</td>\n      <td>0.0</td>\n      <td>-0.011314</td>\n      <td>0.009007</td>\n      <td>0.036163</td>\n      <td>0.094203</td>\n      <td>-0.086490</td>\n      <td>0.018722</td>\n      <td>0.106346</td>\n      <td>...</td>\n      <td>-0.109144</td>\n      <td>0.056168</td>\n      <td>-0.094267</td>\n      <td>-0.002266</td>\n      <td>-0.000630</td>\n      <td>0.034838</td>\n      <td>-0.050432</td>\n      <td>-0.082519</td>\n      <td>-0.058517</td>\n      <td>-0.084094</td>\n    </tr>\n    <tr>\n      <th>1</th>\n      <td>1.1</td>\n      <td>5.0</td>\n      <td>1.0</td>\n      <td>0.060389</td>\n      <td>0.015101</td>\n      <td>0.001943</td>\n      <td>0.078427</td>\n      <td>-0.051615</td>\n      <td>-0.006441</td>\n      <td>0.117803</td>\n      <td>...</td>\n      <td>-0.111039</td>\n      <td>0.037476</td>\n      <td>-0.037692</td>\n      <td>0.014641</td>\n      <td>-0.033205</td>\n      <td>0.092497</td>\n      <td>-0.027912</td>\n      <td>-0.017063</td>\n      <td>-0.050849</td>\n      <td>-0.066237</td>\n    </tr>\n    <tr>\n      <th>2</th>\n      <td>1.1</td>\n      <td>4.0</td>\n      <td>1.0</td>\n      <td>-0.026572</td>\n      <td>0.003052</td>\n      <td>0.023926</td>\n      <td>0.027011</td>\n      <td>-0.124079</td>\n      <td>0.011813</td>\n      <td>0.080247</td>\n      <td>...</td>\n      <td>-0.120128</td>\n      <td>0.113636</td>\n      <td>-0.021476</td>\n      <td>-0.043010</td>\n      <td>0.050251</td>\n      <td>0.023088</td>\n      <td>0.028648</td>\n      <td>-0.092174</td>\n      <td>-0.106146</td>\n      <td>0.061167</td>\n    </tr>\n    <tr>\n      <th>3</th>\n      <td>1.1</td>\n      <td>5.0</td>\n      <td>1.0</td>\n      <td>-0.008671</td>\n      <td>0.014805</td>\n      <td>0.000142</td>\n      <td>0.075033</td>\n      <td>-0.145578</td>\n      <td>0.044373</td>\n      <td>0.101935</td>\n      <td>...</td>\n      <td>-0.168329</td>\n      <td>0.041958</td>\n      <td>-0.046039</td>\n      <td>-0.039089</td>\n      <td>-0.018669</td>\n      <td>0.049331</td>\n      <td>-0.036801</td>\n      <td>-0.036714</td>\n      <td>-0.032854</td>\n      <td>0.002749</td>\n    </tr>\n    <tr>\n      <th>4</th>\n      <td>1.1</td>\n      <td>3.0</td>\n      <td>0.0</td>\n      <td>-0.004554</td>\n      <td>-0.003926</td>\n      <td>0.033550</td>\n      <td>0.072991</td>\n      <td>-0.047009</td>\n      <td>0.024852</td>\n      <td>0.105057</td>\n      <td>...</td>\n      <td>-0.134584</td>\n      <td>0.128961</td>\n      <td>-0.055376</td>\n      <td>0.009431</td>\n      <td>-0.027363</td>\n      <td>0.014968</td>\n      <td>0.045993</td>\n      <td>-0.082018</td>\n      <td>-0.065550</td>\n      <td>-0.084932</td>\n    </tr>\n    <tr>\n      <th>...</th>\n      <td>...</td>\n      <td>...</td>\n      <td>...</td>\n      <td>...</td>\n      <td>...</td>\n      <td>...</td>\n      <td>...</td>\n      <td>...</td>\n      <td>...</td>\n      <td>...</td>\n      <td>...</td>\n      <td>...</td>\n      <td>...</td>\n      <td>...</td>\n      <td>...</td>\n      <td>...</td>\n      <td>...</td>\n      <td>...</td>\n      <td>...</td>\n      <td>...</td>\n      <td>...</td>\n    </tr>\n    <tr>\n      <th>2437</th>\n      <td>12.1</td>\n      <td>5.0</td>\n      <td>1.0</td>\n      <td>0.059906</td>\n      <td>-0.001709</td>\n      <td>-0.172974</td>\n      <td>0.051758</td>\n      <td>-0.112305</td>\n      <td>0.082764</td>\n      <td>0.064453</td>\n      <td>...</td>\n      <td>0.093750</td>\n      <td>0.042542</td>\n      <td>0.026489</td>\n      <td>0.014893</td>\n      <td>-0.046875</td>\n      <td>-0.259277</td>\n      <td>0.060059</td>\n      <td>-0.158569</td>\n      <td>-0.154785</td>\n      <td>-0.022278</td>\n    </tr>\n    <tr>\n      <th>2438</th>\n      <td>12.1</td>\n      <td>1.5</td>\n      <td>0.0</td>\n      <td>0.057083</td>\n      <td>-0.097229</td>\n      <td>0.092163</td>\n      <td>0.070007</td>\n      <td>-0.083618</td>\n      <td>0.013002</td>\n      <td>-0.010864</td>\n      <td>...</td>\n      <td>-0.066467</td>\n      <td>0.048859</td>\n      <td>-0.047043</td>\n      <td>0.087646</td>\n      <td>-0.072632</td>\n      <td>-0.008606</td>\n      <td>-0.140869</td>\n      <td>-0.116821</td>\n      <td>-0.064392</td>\n      <td>0.026764</td>\n    </tr>\n    <tr>\n      <th>2439</th>\n      <td>12.1</td>\n      <td>2.5</td>\n      <td>0.0</td>\n      <td>0.000000</td>\n      <td>0.000000</td>\n      <td>0.000000</td>\n      <td>0.000000</td>\n      <td>0.000000</td>\n      <td>0.000000</td>\n      <td>0.000000</td>\n      <td>...</td>\n      <td>0.000000</td>\n      <td>0.000000</td>\n      <td>0.000000</td>\n      <td>0.000000</td>\n      <td>0.000000</td>\n      <td>0.000000</td>\n      <td>0.000000</td>\n      <td>0.000000</td>\n      <td>0.000000</td>\n      <td>0.000000</td>\n    </tr>\n    <tr>\n      <th>2440</th>\n      <td>12.1</td>\n      <td>5.0</td>\n      <td>1.0</td>\n      <td>-0.039510</td>\n      <td>0.178182</td>\n      <td>-0.027710</td>\n      <td>-0.015666</td>\n      <td>-0.085327</td>\n      <td>-0.125814</td>\n      <td>0.041423</td>\n      <td>...</td>\n      <td>-0.049072</td>\n      <td>0.149902</td>\n      <td>-0.137634</td>\n      <td>0.075846</td>\n      <td>-0.028071</td>\n      <td>-0.089600</td>\n      <td>-0.154867</td>\n      <td>-0.002360</td>\n      <td>-0.088175</td>\n      <td>0.027323</td>\n    </tr>\n    <tr>\n      <th>2441</th>\n      <td>12.1</td>\n      <td>1.5</td>\n      <td>0.0</td>\n      <td>0.078084</td>\n      <td>0.018366</td>\n      <td>-0.008784</td>\n      <td>0.052569</td>\n      <td>-0.065615</td>\n      <td>0.034973</td>\n      <td>0.103816</td>\n      <td>...</td>\n      <td>-0.033778</td>\n      <td>0.135666</td>\n      <td>-0.024923</td>\n      <td>0.016905</td>\n      <td>0.022451</td>\n      <td>-0.023905</td>\n      <td>-0.034216</td>\n      <td>-0.109090</td>\n      <td>0.036997</td>\n      <td>0.015066</td>\n    </tr>\n  </tbody>\n</table>\n<p>2442 rows × 303 columns</p>\n</div>"
     },
     "execution_count": 138,
     "metadata": {},
     "output_type": "execute_result"
    }
   ],
   "source": [
    "prepro_answers_df"
   ],
   "metadata": {
    "collapsed": false,
    "ExecuteTime": {
     "end_time": "2024-05-15T12:45:48.115584900Z",
     "start_time": "2024-05-15T12:45:48.039696Z"
    }
   },
   "id": "c8f4e9da096e025f"
  },
  {
   "cell_type": "code",
   "execution_count": 125,
   "outputs": [],
   "source": [
    "from sklearn.model_selection import train_test_split\n",
    "\n",
    "x_train, x_test, y_train, y_test = train_test_split(prepro_answers_df.drop(['score'], axis=1),\n",
    "                                                    prepro_answers_df['score'], test_size=0.2, random_state=20)"
   ],
   "metadata": {
    "collapsed": false,
    "ExecuteTime": {
     "end_time": "2024-05-14T20:31:55.653549100Z",
     "start_time": "2024-05-14T20:31:55.607317800Z"
    }
   },
   "id": "ad3ef4da9b006b1d"
  },
  {
   "cell_type": "markdown",
   "source": [
    "#### training and hyperparameter tuning using GridSearch"
   ],
   "metadata": {
    "collapsed": false
   },
   "id": "a7be5f56916c3bfb"
  },
  {
   "cell_type": "code",
   "execution_count": null,
   "outputs": [],
   "source": [
    "from sklearn.svm import SVR\n",
    "from sklearn.linear_model import LinearRegression\n",
    "from sklearn.tree import DecisionTreeRegressor\n",
    "from sklearn.model_selection import GridSearchCV\n",
    "from sklearn.metrics import mean_squared_error, mean_absolute_error, root_mean_squared_error\n",
    "\n",
    "# Define a dictionary to store model names and their respective hyperparameter grids\n",
    "model_params = {\n",
    "    'SVR': {\n",
    "        'kernel': ['rbf', 'linear'],\n",
    "        'C': [0.1, 1, 10],\n",
    "        'gamma': [0.01, 0.1, 1]\n",
    "    },\n",
    "    'Linear Regression': {},\n",
    "    'Decision Tree': {\n",
    "        'max_depth': [2, 5, 10],\n",
    "        'min_samples_split': [2, 5, 10],\n",
    "        'min_samples_leaf': [1, 2, 4]\n",
    "    }\n",
    "}\n",
    "\n",
    "models = []\n",
    "model_names = []\n",
    "mse_scores = []\n",
    "mae_scores = []\n",
    "rmse_scores = []\n",
    "\n",
    "for model_name, params in model_params.items():\n",
    "    # Create the model object\n",
    "    if model_name == 'SVR':\n",
    "        model = SVR()\n",
    "    elif model_name == 'Linear Regression':\n",
    "        model = LinearRegression()\n",
    "    else:\n",
    "        model = DecisionTreeRegressor()\n",
    "\n",
    "    print(model_name)\n",
    "    grid_search = GridSearchCV(model, params, scoring='neg_mean_squared_error', cv=5, verbose=10)\n",
    "\n",
    "    grid_search.fit(x_train, y_train)\n",
    "    best_model = grid_search.best_estimator_\n",
    "    preds = best_model.predict(x_test)\n",
    "\n",
    "    mse = mean_squared_error(y_test, preds)\n",
    "    mae = mean_absolute_error(y_test, preds)\n",
    "    rmse = root_mean_squared_error(y_test, preds)\n",
    "\n",
    "    models.append(best_model)\n",
    "    model_names.append(model_name)\n",
    "    mse_scores.append(mse)\n",
    "    mae_scores.append(mae)\n",
    "    rmse_scores.append(rmse)"
   ],
   "metadata": {
    "collapsed": false
   },
   "id": "e49a43ebf7ea0e5c"
  },
  {
   "cell_type": "markdown",
   "source": [
    "#### result of regression"
   ],
   "metadata": {
    "collapsed": false
   },
   "id": "8c4473822c587524"
  },
  {
   "cell_type": "code",
   "execution_count": 135,
   "outputs": [
    {
     "name": "stdout",
     "output_type": "stream",
     "text": [
      "Model Name\tMSE\t\tMAE\t\tRMSE\n",
      "--------------------------------------------\n",
      "SVR         \t0.2108\t0.3050\t0.4592\n",
      "Linear Regression\t0.2673\t0.3788\t0.5170\n",
      "Decision Tree\t0.2630\t0.3723\t0.5129\n"
     ]
    }
   ],
   "source": [
    "print(\"Model Name\\tMSE\\t\\tMAE\\t\\tRMSE\")\n",
    "print(\"--------------------------------------------\")\n",
    "for i in range(len(models)):\n",
    "    print(f\"{model_names[i]:<12}\\t{mse_scores[i]:.4f}\\t{mae_scores[i]:.4f}\\t{rmse_scores[i]:.4f}\")"
   ],
   "metadata": {
    "collapsed": false,
    "ExecuteTime": {
     "end_time": "2024-05-14T21:29:10.080778Z",
     "start_time": "2024-05-14T21:29:10.035584300Z"
    }
   },
   "id": "b099871d38772409"
  },
  {
   "cell_type": "code",
   "execution_count": 137,
   "outputs": [
    {
     "data": {
      "text/plain": "SVR(C=10, gamma=0.1)",
      "text/html": "<style>#sk-container-id-3 {\n  /* Definition of color scheme common for light and dark mode */\n  --sklearn-color-text: black;\n  --sklearn-color-line: gray;\n  /* Definition of color scheme for unfitted estimators */\n  --sklearn-color-unfitted-level-0: #fff5e6;\n  --sklearn-color-unfitted-level-1: #f6e4d2;\n  --sklearn-color-unfitted-level-2: #ffe0b3;\n  --sklearn-color-unfitted-level-3: chocolate;\n  /* Definition of color scheme for fitted estimators */\n  --sklearn-color-fitted-level-0: #f0f8ff;\n  --sklearn-color-fitted-level-1: #d4ebff;\n  --sklearn-color-fitted-level-2: #b3dbfd;\n  --sklearn-color-fitted-level-3: cornflowerblue;\n\n  /* Specific color for light theme */\n  --sklearn-color-text-on-default-background: var(--sg-text-color, var(--theme-code-foreground, var(--jp-content-font-color1, black)));\n  --sklearn-color-background: var(--sg-background-color, var(--theme-background, var(--jp-layout-color0, white)));\n  --sklearn-color-border-box: var(--sg-text-color, var(--theme-code-foreground, var(--jp-content-font-color1, black)));\n  --sklearn-color-icon: #696969;\n\n  @media (prefers-color-scheme: dark) {\n    /* Redefinition of color scheme for dark theme */\n    --sklearn-color-text-on-default-background: var(--sg-text-color, var(--theme-code-foreground, var(--jp-content-font-color1, white)));\n    --sklearn-color-background: var(--sg-background-color, var(--theme-background, var(--jp-layout-color0, #111)));\n    --sklearn-color-border-box: var(--sg-text-color, var(--theme-code-foreground, var(--jp-content-font-color1, white)));\n    --sklearn-color-icon: #878787;\n  }\n}\n\n#sk-container-id-3 {\n  color: var(--sklearn-color-text);\n}\n\n#sk-container-id-3 pre {\n  padding: 0;\n}\n\n#sk-container-id-3 input.sk-hidden--visually {\n  border: 0;\n  clip: rect(1px 1px 1px 1px);\n  clip: rect(1px, 1px, 1px, 1px);\n  height: 1px;\n  margin: -1px;\n  overflow: hidden;\n  padding: 0;\n  position: absolute;\n  width: 1px;\n}\n\n#sk-container-id-3 div.sk-dashed-wrapped {\n  border: 1px dashed var(--sklearn-color-line);\n  margin: 0 0.4em 0.5em 0.4em;\n  box-sizing: border-box;\n  padding-bottom: 0.4em;\n  background-color: var(--sklearn-color-background);\n}\n\n#sk-container-id-3 div.sk-container {\n  /* jupyter's `normalize.less` sets `[hidden] { display: none; }`\n     but bootstrap.min.css set `[hidden] { display: none !important; }`\n     so we also need the `!important` here to be able to override the\n     default hidden behavior on the sphinx rendered scikit-learn.org.\n     See: https://github.com/scikit-learn/scikit-learn/issues/21755 */\n  display: inline-block !important;\n  position: relative;\n}\n\n#sk-container-id-3 div.sk-text-repr-fallback {\n  display: none;\n}\n\ndiv.sk-parallel-item,\ndiv.sk-serial,\ndiv.sk-item {\n  /* draw centered vertical line to link estimators */\n  background-image: linear-gradient(var(--sklearn-color-text-on-default-background), var(--sklearn-color-text-on-default-background));\n  background-size: 2px 100%;\n  background-repeat: no-repeat;\n  background-position: center center;\n}\n\n/* Parallel-specific style estimator block */\n\n#sk-container-id-3 div.sk-parallel-item::after {\n  content: \"\";\n  width: 100%;\n  border-bottom: 2px solid var(--sklearn-color-text-on-default-background);\n  flex-grow: 1;\n}\n\n#sk-container-id-3 div.sk-parallel {\n  display: flex;\n  align-items: stretch;\n  justify-content: center;\n  background-color: var(--sklearn-color-background);\n  position: relative;\n}\n\n#sk-container-id-3 div.sk-parallel-item {\n  display: flex;\n  flex-direction: column;\n}\n\n#sk-container-id-3 div.sk-parallel-item:first-child::after {\n  align-self: flex-end;\n  width: 50%;\n}\n\n#sk-container-id-3 div.sk-parallel-item:last-child::after {\n  align-self: flex-start;\n  width: 50%;\n}\n\n#sk-container-id-3 div.sk-parallel-item:only-child::after {\n  width: 0;\n}\n\n/* Serial-specific style estimator block */\n\n#sk-container-id-3 div.sk-serial {\n  display: flex;\n  flex-direction: column;\n  align-items: center;\n  background-color: var(--sklearn-color-background);\n  padding-right: 1em;\n  padding-left: 1em;\n}\n\n\n/* Toggleable style: style used for estimator/Pipeline/ColumnTransformer box that is\nclickable and can be expanded/collapsed.\n- Pipeline and ColumnTransformer use this feature and define the default style\n- Estimators will overwrite some part of the style using the `sk-estimator` class\n*/\n\n/* Pipeline and ColumnTransformer style (default) */\n\n#sk-container-id-3 div.sk-toggleable {\n  /* Default theme specific background. It is overwritten whether we have a\n  specific estimator or a Pipeline/ColumnTransformer */\n  background-color: var(--sklearn-color-background);\n}\n\n/* Toggleable label */\n#sk-container-id-3 label.sk-toggleable__label {\n  cursor: pointer;\n  display: block;\n  width: 100%;\n  margin-bottom: 0;\n  padding: 0.5em;\n  box-sizing: border-box;\n  text-align: center;\n}\n\n#sk-container-id-3 label.sk-toggleable__label-arrow:before {\n  /* Arrow on the left of the label */\n  content: \"▸\";\n  float: left;\n  margin-right: 0.25em;\n  color: var(--sklearn-color-icon);\n}\n\n#sk-container-id-3 label.sk-toggleable__label-arrow:hover:before {\n  color: var(--sklearn-color-text);\n}\n\n/* Toggleable content - dropdown */\n\n#sk-container-id-3 div.sk-toggleable__content {\n  max-height: 0;\n  max-width: 0;\n  overflow: hidden;\n  text-align: left;\n  /* unfitted */\n  background-color: var(--sklearn-color-unfitted-level-0);\n}\n\n#sk-container-id-3 div.sk-toggleable__content.fitted {\n  /* fitted */\n  background-color: var(--sklearn-color-fitted-level-0);\n}\n\n#sk-container-id-3 div.sk-toggleable__content pre {\n  margin: 0.2em;\n  border-radius: 0.25em;\n  color: var(--sklearn-color-text);\n  /* unfitted */\n  background-color: var(--sklearn-color-unfitted-level-0);\n}\n\n#sk-container-id-3 div.sk-toggleable__content.fitted pre {\n  /* unfitted */\n  background-color: var(--sklearn-color-fitted-level-0);\n}\n\n#sk-container-id-3 input.sk-toggleable__control:checked~div.sk-toggleable__content {\n  /* Expand drop-down */\n  max-height: 200px;\n  max-width: 100%;\n  overflow: auto;\n}\n\n#sk-container-id-3 input.sk-toggleable__control:checked~label.sk-toggleable__label-arrow:before {\n  content: \"▾\";\n}\n\n/* Pipeline/ColumnTransformer-specific style */\n\n#sk-container-id-3 div.sk-label input.sk-toggleable__control:checked~label.sk-toggleable__label {\n  color: var(--sklearn-color-text);\n  background-color: var(--sklearn-color-unfitted-level-2);\n}\n\n#sk-container-id-3 div.sk-label.fitted input.sk-toggleable__control:checked~label.sk-toggleable__label {\n  background-color: var(--sklearn-color-fitted-level-2);\n}\n\n/* Estimator-specific style */\n\n/* Colorize estimator box */\n#sk-container-id-3 div.sk-estimator input.sk-toggleable__control:checked~label.sk-toggleable__label {\n  /* unfitted */\n  background-color: var(--sklearn-color-unfitted-level-2);\n}\n\n#sk-container-id-3 div.sk-estimator.fitted input.sk-toggleable__control:checked~label.sk-toggleable__label {\n  /* fitted */\n  background-color: var(--sklearn-color-fitted-level-2);\n}\n\n#sk-container-id-3 div.sk-label label.sk-toggleable__label,\n#sk-container-id-3 div.sk-label label {\n  /* The background is the default theme color */\n  color: var(--sklearn-color-text-on-default-background);\n}\n\n/* On hover, darken the color of the background */\n#sk-container-id-3 div.sk-label:hover label.sk-toggleable__label {\n  color: var(--sklearn-color-text);\n  background-color: var(--sklearn-color-unfitted-level-2);\n}\n\n/* Label box, darken color on hover, fitted */\n#sk-container-id-3 div.sk-label.fitted:hover label.sk-toggleable__label.fitted {\n  color: var(--sklearn-color-text);\n  background-color: var(--sklearn-color-fitted-level-2);\n}\n\n/* Estimator label */\n\n#sk-container-id-3 div.sk-label label {\n  font-family: monospace;\n  font-weight: bold;\n  display: inline-block;\n  line-height: 1.2em;\n}\n\n#sk-container-id-3 div.sk-label-container {\n  text-align: center;\n}\n\n/* Estimator-specific */\n#sk-container-id-3 div.sk-estimator {\n  font-family: monospace;\n  border: 1px dotted var(--sklearn-color-border-box);\n  border-radius: 0.25em;\n  box-sizing: border-box;\n  margin-bottom: 0.5em;\n  /* unfitted */\n  background-color: var(--sklearn-color-unfitted-level-0);\n}\n\n#sk-container-id-3 div.sk-estimator.fitted {\n  /* fitted */\n  background-color: var(--sklearn-color-fitted-level-0);\n}\n\n/* on hover */\n#sk-container-id-3 div.sk-estimator:hover {\n  /* unfitted */\n  background-color: var(--sklearn-color-unfitted-level-2);\n}\n\n#sk-container-id-3 div.sk-estimator.fitted:hover {\n  /* fitted */\n  background-color: var(--sklearn-color-fitted-level-2);\n}\n\n/* Specification for estimator info (e.g. \"i\" and \"?\") */\n\n/* Common style for \"i\" and \"?\" */\n\n.sk-estimator-doc-link,\na:link.sk-estimator-doc-link,\na:visited.sk-estimator-doc-link {\n  float: right;\n  font-size: smaller;\n  line-height: 1em;\n  font-family: monospace;\n  background-color: var(--sklearn-color-background);\n  border-radius: 1em;\n  height: 1em;\n  width: 1em;\n  text-decoration: none !important;\n  margin-left: 1ex;\n  /* unfitted */\n  border: var(--sklearn-color-unfitted-level-1) 1pt solid;\n  color: var(--sklearn-color-unfitted-level-1);\n}\n\n.sk-estimator-doc-link.fitted,\na:link.sk-estimator-doc-link.fitted,\na:visited.sk-estimator-doc-link.fitted {\n  /* fitted */\n  border: var(--sklearn-color-fitted-level-1) 1pt solid;\n  color: var(--sklearn-color-fitted-level-1);\n}\n\n/* On hover */\ndiv.sk-estimator:hover .sk-estimator-doc-link:hover,\n.sk-estimator-doc-link:hover,\ndiv.sk-label-container:hover .sk-estimator-doc-link:hover,\n.sk-estimator-doc-link:hover {\n  /* unfitted */\n  background-color: var(--sklearn-color-unfitted-level-3);\n  color: var(--sklearn-color-background);\n  text-decoration: none;\n}\n\ndiv.sk-estimator.fitted:hover .sk-estimator-doc-link.fitted:hover,\n.sk-estimator-doc-link.fitted:hover,\ndiv.sk-label-container:hover .sk-estimator-doc-link.fitted:hover,\n.sk-estimator-doc-link.fitted:hover {\n  /* fitted */\n  background-color: var(--sklearn-color-fitted-level-3);\n  color: var(--sklearn-color-background);\n  text-decoration: none;\n}\n\n/* Span, style for the box shown on hovering the info icon */\n.sk-estimator-doc-link span {\n  display: none;\n  z-index: 9999;\n  position: relative;\n  font-weight: normal;\n  right: .2ex;\n  padding: .5ex;\n  margin: .5ex;\n  width: min-content;\n  min-width: 20ex;\n  max-width: 50ex;\n  color: var(--sklearn-color-text);\n  box-shadow: 2pt 2pt 4pt #999;\n  /* unfitted */\n  background: var(--sklearn-color-unfitted-level-0);\n  border: .5pt solid var(--sklearn-color-unfitted-level-3);\n}\n\n.sk-estimator-doc-link.fitted span {\n  /* fitted */\n  background: var(--sklearn-color-fitted-level-0);\n  border: var(--sklearn-color-fitted-level-3);\n}\n\n.sk-estimator-doc-link:hover span {\n  display: block;\n}\n\n/* \"?\"-specific style due to the `<a>` HTML tag */\n\n#sk-container-id-3 a.estimator_doc_link {\n  float: right;\n  font-size: 1rem;\n  line-height: 1em;\n  font-family: monospace;\n  background-color: var(--sklearn-color-background);\n  border-radius: 1rem;\n  height: 1rem;\n  width: 1rem;\n  text-decoration: none;\n  /* unfitted */\n  color: var(--sklearn-color-unfitted-level-1);\n  border: var(--sklearn-color-unfitted-level-1) 1pt solid;\n}\n\n#sk-container-id-3 a.estimator_doc_link.fitted {\n  /* fitted */\n  border: var(--sklearn-color-fitted-level-1) 1pt solid;\n  color: var(--sklearn-color-fitted-level-1);\n}\n\n/* On hover */\n#sk-container-id-3 a.estimator_doc_link:hover {\n  /* unfitted */\n  background-color: var(--sklearn-color-unfitted-level-3);\n  color: var(--sklearn-color-background);\n  text-decoration: none;\n}\n\n#sk-container-id-3 a.estimator_doc_link.fitted:hover {\n  /* fitted */\n  background-color: var(--sklearn-color-fitted-level-3);\n}\n</style><div id=\"sk-container-id-3\" class=\"sk-top-container\"><div class=\"sk-text-repr-fallback\"><pre>SVR(C=10, gamma=0.1)</pre><b>In a Jupyter environment, please rerun this cell to show the HTML representation or trust the notebook. <br />On GitHub, the HTML representation is unable to render, please try loading this page with nbviewer.org.</b></div><div class=\"sk-container\" hidden><div class=\"sk-item\"><div class=\"sk-estimator fitted sk-toggleable\"><input class=\"sk-toggleable__control sk-hidden--visually\" id=\"sk-estimator-id-3\" type=\"checkbox\" checked><label for=\"sk-estimator-id-3\" class=\"sk-toggleable__label fitted sk-toggleable__label-arrow fitted\">&nbsp;&nbsp;SVR<a class=\"sk-estimator-doc-link fitted\" rel=\"noreferrer\" target=\"_blank\" href=\"https://scikit-learn.org/1.4/modules/generated/sklearn.svm.SVR.html\">?<span>Documentation for SVR</span></a><span class=\"sk-estimator-doc-link fitted\">i<span>Fitted</span></span></label><div class=\"sk-toggleable__content fitted\"><pre>SVR(C=10, gamma=0.1)</pre></div> </div></div></div></div>"
     },
     "execution_count": 137,
     "metadata": {},
     "output_type": "execute_result"
    }
   ],
   "source": [
    "models[0]"
   ],
   "metadata": {
    "collapsed": false,
    "ExecuteTime": {
     "end_time": "2024-05-14T21:41:37.235338500Z",
     "start_time": "2024-05-14T21:41:37.175714700Z"
    }
   },
   "id": "30272758df78b179"
  },
  {
   "cell_type": "markdown",
   "source": [
    "**looking at the results, it that SVM is the best model suited for the task**"
   ],
   "metadata": {
    "collapsed": false
   },
   "id": "3d90d8e496c6b76"
  },
  {
   "cell_type": "markdown",
   "source": [
    "### Part 2: Language Modeling / Classification"
   ],
   "metadata": {
    "collapsed": false
   },
   "id": "9610352891a54426"
  },
  {
   "cell_type": "code",
   "execution_count": 7,
   "outputs": [],
   "source": [
    "path = r'C:\\Users\\ACER\\PycharmProjects\\LogisticRegression\\env\\NLP'\n",
    "tweets_test_df = pd.read_csv(path + r'\\twitter_validation.csv',\n",
    "                             names=['tweet_id', 'entity', 'sentiment', 'Tweet content'])"
   ],
   "metadata": {
    "collapsed": false,
    "ExecuteTime": {
     "end_time": "2024-05-19T20:17:38.634525500Z",
     "start_time": "2024-05-19T20:17:38.538842600Z"
    }
   },
   "id": "b69f1052484519a1"
  },
  {
   "cell_type": "code",
   "execution_count": 8,
   "outputs": [],
   "source": [
    "tweets_test_df.dropna(inplace=True)"
   ],
   "metadata": {
    "collapsed": false,
    "ExecuteTime": {
     "end_time": "2024-05-19T20:17:39.619183800Z",
     "start_time": "2024-05-19T20:17:39.579293500Z"
    }
   },
   "id": "51aab4469d21dde2"
  },
  {
   "cell_type": "code",
   "execution_count": 9,
   "outputs": [],
   "source": [
    "tweets_test_df['Tweet content'] = [preprocess_text(text) for text in tweets_test_df['Tweet content']]"
   ],
   "metadata": {
    "collapsed": false,
    "ExecuteTime": {
     "end_time": "2024-05-19T20:17:48.383960200Z",
     "start_time": "2024-05-19T20:17:41.431416200Z"
    }
   },
   "id": "670bfa4d2e38fe6"
  },
  {
   "cell_type": "code",
   "execution_count": null,
   "outputs": [],
   "source": [
    "tweets_test_df_vectors = tweets_test_df.copy()\n",
    "print(tweets_test_df_vectors.head(5))"
   ],
   "metadata": {
    "collapsed": false
   },
   "id": "fdac1f342316a009"
  },
  {
   "cell_type": "code",
   "execution_count": 11,
   "outputs": [],
   "source": [
    "tweets_test_df_vectors['Tweet content'] = [text_to_vector(text, model_cbow) for text in\n",
    "                                           tweets_test_df_vectors['Tweet content']]"
   ],
   "metadata": {
    "collapsed": false,
    "ExecuteTime": {
     "end_time": "2024-05-19T20:18:00.949816800Z",
     "start_time": "2024-05-19T20:18:00.867458400Z"
    }
   },
   "id": "547a992ba103f8fb"
  },
  {
   "cell_type": "code",
   "execution_count": null,
   "outputs": [],
   "source": [
    "print(tweets_test_df_vectors.head(5))"
   ],
   "metadata": {
    "collapsed": false
   },
   "id": "3e544cc8030f9016"
  },
  {
   "cell_type": "code",
   "execution_count": null,
   "outputs": [],
   "source": [
    "mat_validation_df = np.array([arr for arr in tweets_test_df_vectors['Tweet content']])\n",
    "print(mat_validation_df[:2])"
   ],
   "metadata": {
    "collapsed": false
   },
   "id": "6a96aa1f2e418c01"
  },
  {
   "cell_type": "code",
   "execution_count": null,
   "outputs": [],
   "source": [
    "prepro_validation_df = tweets_test_df_vectors.join(pd.DataFrame(mat_validation_df))\n",
    "prepro_validation_df.drop(['Tweet content'], axis=1, inplace=True)\n",
    "print(prepro_validation_df.head(5))"
   ],
   "metadata": {
    "collapsed": false
   },
   "id": "b62bcfc3fc5237a8"
  },
  {
   "cell_type": "code",
   "execution_count": 15,
   "outputs": [],
   "source": [
    "prepro_validation_df.columns = prepro_validation_df.columns.astype(str)\n",
    "\n",
    "prepro_validation_df.dropna(axis=0, inplace=True)"
   ],
   "metadata": {
    "collapsed": false,
    "ExecuteTime": {
     "end_time": "2024-05-19T20:18:08.807398600Z",
     "start_time": "2024-05-19T20:18:08.761691200Z"
    }
   },
   "id": "598acab4b0f79bc4"
  },
  {
   "cell_type": "code",
   "execution_count": 16,
   "outputs": [
    {
     "name": "stdout",
     "output_type": "stream",
     "text": [
      "Index(['tweet_id', 'entity', 'sentiment', '0', '1', '2', '3', '4', '5', '6',\n",
      "       ...\n",
      "       '290', '291', '292', '293', '294', '295', '296', '297', '298', '299'],\n",
      "      dtype='object', length=303)\n"
     ]
    }
   ],
   "source": [
    "print(prepro_validation_df.columns)"
   ],
   "metadata": {
    "collapsed": false,
    "ExecuteTime": {
     "end_time": "2024-05-19T20:18:11.804240Z",
     "start_time": "2024-05-19T20:18:11.759085200Z"
    }
   },
   "id": "c325233f47b5892e"
  },
  {
   "cell_type": "code",
   "execution_count": 17,
   "outputs": [],
   "source": [
    "prepro_validation_df.drop(['tweet_id', 'entity'], axis=1, inplace=True)\n"
   ],
   "metadata": {
    "collapsed": false,
    "ExecuteTime": {
     "end_time": "2024-05-19T20:18:14.318082400Z",
     "start_time": "2024-05-19T20:18:14.278791600Z"
    }
   },
   "id": "d1aa6684ed9cec73"
  },
  {
   "cell_type": "code",
   "execution_count": null,
   "outputs": [],
   "source": [
    "print(prepro_validation_df.head(5))"
   ],
   "metadata": {
    "collapsed": false
   },
   "id": "59249363682c67ef"
  },
  {
   "cell_type": "code",
   "execution_count": 19,
   "outputs": [],
   "source": [
    "from sklearn.preprocessing import LabelEncoder\n",
    "\n",
    "encoder = LabelEncoder()\n",
    "prepro_validation_df['sentiment'] = encoder.fit_transform(prepro_validation_df['sentiment'])"
   ],
   "metadata": {
    "collapsed": false,
    "ExecuteTime": {
     "end_time": "2024-05-19T20:18:18.489033500Z",
     "start_time": "2024-05-19T20:18:18.461705300Z"
    }
   },
   "id": "c131de096d5b0407"
  },
  {
   "cell_type": "code",
   "execution_count": 20,
   "outputs": [],
   "source": [
    "from sklearn.model_selection import train_test_split\n",
    "\n",
    "x_train, x_test, y_train, y_test = train_test_split(prepro_validation_df.drop(['sentiment'], axis=1),\n",
    "                                                    prepro_validation_df['sentiment'], test_size=0.2, random_state=20)"
   ],
   "metadata": {
    "collapsed": false,
    "ExecuteTime": {
     "end_time": "2024-05-19T20:18:21.805172900Z",
     "start_time": "2024-05-19T20:18:21.744866500Z"
    }
   },
   "id": "5d836e12a0b64662"
  },
  {
   "cell_type": "code",
   "execution_count": null,
   "outputs": [],
   "source": [
    "from sklearn.svm import SVC\n",
    "from sklearn.tree import DecisionTreeClassifier\n",
    "from sklearn.linear_model import LogisticRegression\n",
    "from sklearn.ensemble import AdaBoostClassifier\n",
    "from sklearn.model_selection import GridSearchCV\n",
    "from sklearn.metrics import classification_report\n",
    "\n",
    "model_params = {\n",
    "    'SVM': {\n",
    "        'kernel': ['linear', 'rbf', 'poly'],\n",
    "        'C': [0.1, 1, 10]\n",
    "    },\n",
    "    'D.T': {\n",
    "        'criterion': [\"gini\", \"log_loss\", \"entropy\"],\n",
    "        'max_depth': [5, 10, 15]\n",
    "    },\n",
    "    'Logistic Regression': {\n",
    "        'solver': ['lbfgs', 'liblinear']\n",
    "    },\n",
    "    'AdaBoost': {\n",
    "        'n_estimators': [50, 100, 200]\n",
    "    }\n",
    "}\n",
    "\n",
    "models = []\n",
    "model_names = []\n",
    "reports = []\n",
    "\n",
    "for model_name, params in model_params.items():\n",
    "\n",
    "    if model_name == 'SVM':\n",
    "        model = SVC(probability=True,random_state=10)\n",
    "    elif model_name == 'D.T':\n",
    "        model = DecisionTreeClassifier(random_state=10)\n",
    "    elif model_name == 'Logistic Regression':\n",
    "        model = LogisticRegression(random_state=10)\n",
    "    else:\n",
    "        model = AdaBoostClassifier( algorithm=\"SAMME\",random_state=10)\n",
    "\n",
    "    grid_search = GridSearchCV(model, params, cv=5, verbose=10)\n",
    "    grid_search.fit(x_train, y_train)\n",
    "    best_model = grid_search.best_estimator_\n",
    "    preds = best_model.predict(x_test)\n",
    "    report = classification_report(y_test, preds)\n",
    "    models.append(best_model)\n",
    "    model_names.append(model_name)\n",
    "    reports.append(report)\n"
   ],
   "metadata": {
    "collapsed": false
   },
   "id": "7fe93414cf0aa8ad"
  },
  {
   "cell_type": "code",
   "execution_count": 22,
   "outputs": [
    {
     "name": "stdout",
     "output_type": "stream",
     "text": [
      "SVM Report:\n",
      "\n",
      "              precision    recall  f1-score   support\n",
      "\n",
      "           0       0.43      0.36      0.39        33\n",
      "           1       0.46      0.53      0.49        57\n",
      "           2       0.43      0.39      0.41        54\n",
      "           3       0.50      0.52      0.51        56\n",
      "\n",
      "    accuracy                           0.46       200\n",
      "   macro avg       0.45      0.45      0.45       200\n",
      "weighted avg       0.46      0.46      0.46       200\n",
      "\n",
      "--------------------------------------------\n",
      "D.T Report:\n",
      "\n",
      "              precision    recall  f1-score   support\n",
      "\n",
      "           0       0.27      0.21      0.24        33\n",
      "           1       0.50      0.33      0.40        57\n",
      "           2       0.43      0.69      0.53        54\n",
      "           3       0.44      0.39      0.42        56\n",
      "\n",
      "    accuracy                           0.42       200\n",
      "   macro avg       0.41      0.41      0.40       200\n",
      "weighted avg       0.43      0.42      0.41       200\n",
      "\n",
      "--------------------------------------------\n",
      "Logistic Regression Report:\n",
      "\n",
      "              precision    recall  f1-score   support\n",
      "\n",
      "           0       0.59      0.30      0.40        33\n",
      "           1       0.51      0.53      0.52        57\n",
      "           2       0.47      0.46      0.47        54\n",
      "           3       0.49      0.62      0.55        56\n",
      "\n",
      "    accuracy                           0.50       200\n",
      "   macro avg       0.52      0.48      0.48       200\n",
      "weighted avg       0.51      0.50      0.49       200\n",
      "\n",
      "--------------------------------------------\n",
      "AdaBoost Report:\n",
      "\n",
      "              precision    recall  f1-score   support\n",
      "\n",
      "           0       0.41      0.27      0.33        33\n",
      "           1       0.53      0.40      0.46        57\n",
      "           2       0.35      0.48      0.41        54\n",
      "           3       0.49      0.54      0.51        56\n",
      "\n",
      "    accuracy                           0.44       200\n",
      "   macro avg       0.45      0.42      0.43       200\n",
      "weighted avg       0.45      0.44      0.44       200\n",
      "\n",
      "--------------------------------------------\n"
     ]
    }
   ],
   "source": [
    "\n",
    "for i in range(len(models)):\n",
    "    print(f\"{model_names[i]} Report:\\n\")\n",
    "    print(reports[i])\n",
    "    print(\"--------------------------------------------\")"
   ],
   "metadata": {
    "collapsed": false,
    "ExecuteTime": {
     "end_time": "2024-05-19T20:20:39.293474500Z",
     "start_time": "2024-05-19T20:20:39.244013800Z"
    }
   },
   "id": "179ff01c8380c9f"
  },
  {
   "cell_type": "markdown",
   "source": [
    "While the **Logistic Regression** model achieved the highest accuracy of 0.50, all models tested resulted in a relatively low accuracy range between 0.42 and 0.50. This suggests that further exploration and potentially different modeling techniques might be necessary to achieve better performance for this specific task."
   ],
   "metadata": {
    "collapsed": false
   },
   "id": "7445e8899e9c80e3"
  },
  {
   "cell_type": "code",
   "execution_count": null,
   "outputs": [],
   "source": [],
   "metadata": {
    "collapsed": false
   },
   "id": "496836e58befd6af"
  }
 ],
 "metadata": {
  "kernelspec": {
   "display_name": "Python 3",
   "language": "python",
   "name": "python3"
  },
  "language_info": {
   "codemirror_mode": {
    "name": "ipython",
    "version": 2
   },
   "file_extension": ".py",
   "mimetype": "text/x-python",
   "name": "python",
   "nbconvert_exporter": "python",
   "pygments_lexer": "ipython2",
   "version": "2.7.6"
  }
 },
 "nbformat": 4,
 "nbformat_minor": 5
}
